{
  "nbformat": 4,
  "nbformat_minor": 0,
  "metadata": {
    "colab": {
      "name": "neural_style_playgound.ipynb",
      "provenance": [],
      "authorship_tag": "ABX9TyNYhUoLthwjFTbupYcKPTDz"
    },
    "kernelspec": {
      "name": "python3",
      "display_name": "Python 3"
    },
    "language_info": {
      "name": "python"
    }
  },
  "cells": [
    {
      "cell_type": "code",
      "execution_count": null,
      "metadata": {
        "id": "FvYukzGDRUBo"
      },
      "outputs": [],
      "source": [
        ""
      ]
    }
  ]
}