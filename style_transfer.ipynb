{
  "nbformat": 4,
  "nbformat_minor": 0,
  "metadata": {
    "colab": {
      "name": "style_transfer.ipynb",
      "provenance": [],
      "mount_file_id": "17N0p8QXjXtuQUDGxC3thuJ58bgIPd3IS",
      "authorship_tag": "ABX9TyO8MiRbluJlUt6AeOrmD6tL",
      "include_colab_link": true
    },
    "kernelspec": {
      "name": "python3",
      "display_name": "Python 3"
    },
    "language_info": {
      "name": "python"
    }
  },
  "cells": [
    {
      "cell_type": "markdown",
      "metadata": {
        "id": "view-in-github",
        "colab_type": "text"
      },
      "source": [
        "<a href=\"https://colab.research.google.com/github/byte-pusher/cdvbw22_ARTXFASHION/blob/rkoop/style_transfer.ipynb\" target=\"_parent\"><img src=\"https://colab.research.google.com/assets/colab-badge.svg\" alt=\"Open In Colab\"/></a>"
      ]
    },
    {
      "cell_type": "markdown",
      "source": [
        "Org. with more comments on mathematical background: https://github.com/tensorflow/models/blob/master/research/nst_blogpost/4_Neural_Style_Transfer_with_Eager_Execution.ipynb\n",
        "\n",
        "Adjustements made for VGG16 instead of VGG19, current Version of Tensorflow and bulk transfer."
      ],
      "metadata": {
        "id": "1_dfX01x_Ot0"
      }
    },
    {
      "cell_type": "code",
      "source": [
        "#connect GDrive if necessary\n",
        "from google.colab import drive\n",
        "drive.mount('/content/drive')"
      ],
      "metadata": {
        "id": "9K_Hu2M-_se6"
      },
      "execution_count": null,
      "outputs": []
    },
    {
      "cell_type": "code",
      "execution_count": 31,
      "metadata": {
        "id": "PGQrgBKaSKvE"
      },
      "outputs": [],
      "source": [
        "#imports\n",
        "import matplotlib.pyplot as plt\n",
        "import numpy as np\n",
        "from PIL import Image \n",
        "import functools\n",
        "import time\n",
        "import IPython.display\n",
        "\n",
        "%tensorflow_version 2.x\n",
        "import tensorflow as tf\n",
        "from tensorflow.python.keras import models \n",
        "from tensorflow.python.keras import losses\n",
        "from tensorflow.python.keras import layers\n",
        "from tensorflow.python.keras import backend as K"
      ]
    },
    {
      "cell_type": "code",
      "source": [
        "#setting dirs\n",
        "img_dir = '/content/drive/MyDrive/cdvbw22/pics'\n",
        "pat_dir = '/content/drive/MyDrive/cdvbw22/patterns'\n",
        "results_dir = '/content/drive/MyDrive/cdvbw22/results'\n",
        "\n",
        "#setting width/height for images in processing\n",
        "hight = 512\n",
        "width = 512\n",
        "\n",
        "# Content layers of VGG16 where feature maps are pulled for content\n",
        "# lass use of structure cmpared to conv4/5_2\n",
        "content_layers = ['block2_conv2'] \n",
        "\n",
        "# VGG16 layers we use to extract style\n",
        "style_layers = ['block1_conv1',\n",
        "                'block2_conv1',\n",
        "                'block3_conv1', \n",
        "                'block4_conv1', \n",
        "                'block5_conv1'\n",
        "               ]\n",
        "#get nums of layers for calculation\n",
        "num_content_layers = len(content_layers)\n",
        "num_style_layers = len(style_layers)"
      ],
      "metadata": {
        "id": "zW-jRXv-SqrP"
      },
      "execution_count": 32,
      "outputs": []
    },
    {
      "cell_type": "code",
      "source": [
        "#img_utils\n",
        "\n",
        "#load image and scale to max 512 px\n",
        "def load_img(path_to_img):\n",
        "  max_dim = 512\n",
        "  img = Image.open(path_to_img)\n",
        "  long = max(img.size)\n",
        "  scale = max_dim/long\n",
        "  #resize images\n",
        "  img = img.resize((round(img.size[0]*scale), round(img.size[1]*scale)), Image.ANTIALIAS)\n",
        "  # broadcast the image array without batch dimension \n",
        "  img = np.expand_dims(img, axis=0)\n",
        "  return img\n",
        "\n",
        "\n",
        "def img_show(img, title=None):\n",
        "  # Remove the batch dimension\n",
        "  out = np.squeeze(img, axis=0)\n",
        "  # Normalize for display \n",
        "  out = out.astype('uint8')\n",
        "  plt.imshow(out)\n",
        "  if title is not None:\n",
        "    plt.title(title)\n",
        "  plt.imshow(out)"
      ],
      "metadata": {
        "id": "4iXeOcYLTwix"
      },
      "execution_count": 33,
      "outputs": []
    },
    {
      "cell_type": "markdown",
      "source": [
        "-------"
      ],
      "metadata": {
        "id": "OrvzdrtBiXFJ"
      }
    },
    {
      "cell_type": "code",
      "source": [
        "#utils datapreparation\n",
        "\n",
        "def load_and_process_img(path):\n",
        "  #load dimage\n",
        "  img = load_img(path)\n",
        "  #use integrated preprocessing of kerad for vgg\n",
        "  img = tf.keras.applications.vgg16.preprocess_input(img)\n",
        "  return img\n",
        "\n",
        "# reverse to view outputs of optimization keeping values within normalized reach\n",
        "def deprocess_img(img):\n",
        "  #get copy of image\n",
        "  x = img.copy()\n",
        "  #get dimensions as (row (height), column (width), color (3))\n",
        "  if len(x.shape) == 4:\n",
        "    x = np.squeeze(x, 0)\n",
        "  assert len(x.shape) == 3,(\"Input img of wrong dimensions\")\n",
        "  #check if dimensions have been set to 3\n",
        "  if len(x.shape) != 3:\n",
        "    raise ValueError(\"Invalid input to deprocessing image\")\n",
        "  \n",
        "  # perform the inverse of the preprocessing step, reverse substraction\n",
        "  x[:, :, 0] += 103.939\n",
        "  x[:, :, 1] += 116.779\n",
        "  x[:, :, 2] += 123.68\n",
        "  x = x[:, :, ::-1]\n",
        "\n",
        "  #maintain values between 0 and 255, optimized picture can have different values\n",
        "  x = np.clip(x, 0, 255).astype('uint8')\n",
        "  return x"
      ],
      "metadata": {
        "id": "KUNt1NWviFWZ"
      },
      "execution_count": 47,
      "outputs": []
    },
    {
      "cell_type": "markdown",
      "source": [
        "_______"
      ],
      "metadata": {
        "id": "o5OlwcvAxrmr"
      }
    },
    {
      "cell_type": "code",
      "source": [
        "#model creation\n",
        "# ft to create model and intermediate layers\n",
        "# loads VGG16 to acess intermediate layers to create new model\n",
        "# return: keras model that takes img input and outputs intermediate layers (style and content)\n",
        "\n",
        "# Load our model. We load pretrained VGG, trained on imagenet data\n",
        "# vgg16 should be enough, gaining a little bit of speed compared to VGG19\n",
        "def get_model():\n",
        "  #fetch model without top\n",
        "  vgg = tf.keras.applications.vgg16.VGG16(include_top=False, weights='imagenet')\n",
        "  vgg.trainable = False\n",
        "  # Get output layers corresponding to specified style and content layers \n",
        "  style_outputs = [vgg.get_layer(name).output for name in style_layers]\n",
        "  content_outputs = [vgg.get_layer(name).output for name in content_layers]\n",
        "  model_outputs = style_outputs + content_outputs\n",
        "  # Build model \n",
        "  return models.Model(vgg.input, model_outputs)"
      ],
      "metadata": {
        "id": "sg0u3hY5xrva"
      },
      "execution_count": 35,
      "outputs": []
    },
    {
      "cell_type": "markdown",
      "source": [
        "______"
      ],
      "metadata": {
        "id": "w59KBpekz_dT"
      }
    },
    {
      "cell_type": "code",
      "source": [
        "#loss as distance metric\n",
        "\n",
        "#content loss\n",
        "def calc_content_loss(base_content, target):\n",
        "  return tf.reduce_mean(tf.square(base_content - target))\n",
        "\n",
        "#style loss with gram matrices\n",
        "def gram_matrix(input_tensor):\n",
        "  # create img channles\n",
        "  channels = int(input_tensor.shape[-1])\n",
        "  a = tf.reshape(input_tensor, [-1, channels])\n",
        "  n = tf.shape(a)[0]\n",
        "  gram = tf.matmul(a, a, transpose_a=True)\n",
        "  return gram / tf.cast(n, tf.float32)\n",
        "\n",
        "def calc_style_loss(base_style, gram_target):\n",
        "  \"\"\"Expects two images of dimension h, w, c\"\"\"\n",
        "  # height, width, num filters of each layer\n",
        "  # loss at a given layer is scaled by the size of the feature map and the number of filters\n",
        "  height, width, channels = base_style.get_shape().as_list()\n",
        "  #get gram matrix\n",
        "  gram_style = gram_matrix(base_style)\n",
        "  \n",
        "  return tf.reduce_mean(tf.square(gram_style - gram_target))# / (4. * (channels ** 2) * (width * height) ** 2)"
      ],
      "metadata": {
        "id": "rLEe_mBCz_k0"
      },
      "execution_count": 36,
      "outputs": []
    },
    {
      "cell_type": "code",
      "source": [
        "#gradient descent\n",
        "\n",
        "def get_representations(model, content_path, style_path):\n",
        "  #load images\n",
        "  content_image = load_and_process_img(content_path)\n",
        "  style_image = load_and_process_img(style_path)\n",
        "\n",
        "  #bacth compute features\n",
        "  style_outputs = model(style_image)\n",
        "  content_outputs = model(content_image)\n",
        "\n",
        "  #get features from model\n",
        "  style_features = [style_layer[0] for style_layer in style_outputs[:num_style_layers]]\n",
        "  content_features = [content_layer[0] for content_layer in content_outputs[num_style_layers:]]\n",
        "  return style_features, content_features"
      ],
      "metadata": {
        "id": "pawJs_r24sjw"
      },
      "execution_count": 37,
      "outputs": []
    },
    {
      "cell_type": "code",
      "source": [
        "#compute loss\n",
        "\n",
        "def compute_loss(model, loss_weights, init_image, gram_style_features, content_features):\n",
        "  \"\"\"Inputs: \n",
        "  model: created model for acess to intermedite layers\n",
        "  loss_weights: weights of each contribution of each loss funciton\n",
        "  init_img: init base images, gradients with loss are applied to this img\n",
        "  gram_style_features: precomputed gram matrices of layers\n",
        "  content_features: precomputed outputs of lyers\n",
        "\n",
        "  Return:\n",
        "  total loss, style loss, content loss and total variational loss\n",
        "  \"\"\"\n",
        "  #set weights to input\n",
        "  style_weight, content_weight = loss_weights\n",
        "  model_outputs = model(init_image)\n",
        "  style_output_features = model_outputs[:num_style_layers]\n",
        "  content_output_features = model_outputs[num_style_layers:]\n",
        "\n",
        "  #init scores\n",
        "  style_score = 0\n",
        "  content_score = 0\n",
        "\n",
        "  #Accumulate style losses from all layers\n",
        "  # qually weight each contribution of each loss layer\n",
        "  weight_per_style_layer = 1.0 / float(num_style_layers)\n",
        "  #zip to create iterator containing gram features and output features\n",
        "  for target_style, comb_style in zip(gram_style_features, style_output_features):\n",
        "    style_score += weight_per_style_layer * calc_style_loss(comb_style[0], target_style)\n",
        "\n",
        "  #accumulate content losses from all layers\n",
        "  weight_per_content_layer = 1.0 / float(num_content_layers)\n",
        "  for target_content, comb_content in zip(content_features, content_output_features):\n",
        "    content_score += weight_per_content_layer* calc_content_loss(comb_content[0], target_content)\n",
        "\n",
        "  #calc score * weight\n",
        "  style_score *= style_weight\n",
        "  content_score *= content_weight\n",
        "\n",
        "  # Get total loss and return\n",
        "  loss = style_score + content_score \n",
        "  return loss, style_score, content_score\n",
        "\n",
        "def compute_gradients(config):\n",
        "  #calculate loss with tf\n",
        "  with tf.GradientTape() as tape: \n",
        "    all_loss = compute_loss(**config)\n",
        "  total_loss = all_loss[0]\n",
        "  return tape.gradient(total_loss, config['init_image']), all_loss"
      ],
      "metadata": {
        "id": "9s5pVOQs8M1i"
      },
      "execution_count": 38,
      "outputs": []
    },
    {
      "cell_type": "markdown",
      "source": [
        "_______"
      ],
      "metadata": {
        "id": "CJM0myVgNjA0"
      }
    },
    {
      "cell_type": "code",
      "source": [
        "#main ft for style transfer\n",
        "def run_style_transfer(content_path, \n",
        "                       style_path,\n",
        "                       num_iterations=1000,\n",
        "                       content_weight=1e3, \n",
        "                       style_weight=1e-2): \n",
        "  # We don't need to (or want to) train any layers of our model, so we set their\n",
        "  # trainable to false. \n",
        "  model = get_model() \n",
        "  for layer in model.layers:\n",
        "    layer.trainable = False\n",
        "  \n",
        "  # Get the style and content feature representations (from our specified intermediate layers) \n",
        "  style_features, content_features = get_representations(model, content_path, style_path)\n",
        "  gram_style_features = [gram_matrix(style_feature) for style_feature in style_features]\n",
        "  \n",
        "  # Set initial image\n",
        "  init_image = load_and_process_img(content_path)\n",
        "  init_image = tf.Variable(init_image, dtype=tf.float32)\n",
        "  # Create optimizer\n",
        "  opt = tf.keras.optimizers.Adam(learning_rate=5, beta_1=0.99, epsilon=1e-1,)\n",
        "\n",
        "  # For displaying intermediate images \n",
        "  iter_count = 1\n",
        "  # Store best result\n",
        "  best_loss, best_img = float('inf'), None\n",
        "  # Create config \n",
        "  loss_weights = (style_weight, content_weight)\n",
        "  cfg = {\n",
        "      'model': model,\n",
        "      'loss_weights': loss_weights,\n",
        "      'init_image': init_image,\n",
        "      'gram_style_features': gram_style_features,\n",
        "      'content_features': content_features\n",
        "  }\n",
        "    \n",
        "  # For displaying\n",
        "  num_rows = 2\n",
        "  num_cols = 5\n",
        "  display_interval = num_iterations/(num_rows*num_cols)\n",
        "  start_time = time.time()\n",
        "  global_start = time.time()\n",
        "  \n",
        "  norm_means = np.array([103.939, 116.779, 123.68])\n",
        "  min_vals = -norm_means\n",
        "  max_vals = 255 - norm_means   \n",
        "  \n",
        "  imgs = []\n",
        "  for i in range(num_iterations):\n",
        "    grads, all_loss = compute_gradients(cfg)\n",
        "    loss, style_score, content_score = all_loss\n",
        "    opt.apply_gradients([(grads, init_image)])\n",
        "    clipped = tf.clip_by_value(init_image, min_vals, max_vals)\n",
        "    init_image.assign(clipped)\n",
        "    end_time = time.time() \n",
        "    \n",
        "    if loss < best_loss:\n",
        "      # Update best loss and best image from total loss. \n",
        "      best_loss = loss\n",
        "      best_img = deprocess_img(init_image.numpy())\n",
        "\n",
        "    if i % display_interval== 0:\n",
        "      start_time = time.time()\n",
        "      \n",
        "      # Use the .numpy() method to get the concrete numpy array\n",
        "      plot_img = init_image.numpy()\n",
        "      plot_img = deprocess_img(plot_img)\n",
        "      imgs.append(plot_img)\n",
        "      IPython.display.clear_output(wait=True)\n",
        "      IPython.display.display_png(Image.fromarray(plot_img))\n",
        "      print('Iteration: {}'.format(i))        \n",
        "      print('Total loss: {:.4e}, ' \n",
        "            'style loss: {:.4e}, '\n",
        "            'content loss: {:.4e}, '\n",
        "            'time: {:.4f}s'.format(loss, style_score, content_score, time.time() - start_time))\n",
        "  print('Total time: {:.4f}s'.format(time.time() - global_start))\n",
        "  IPython.display.clear_output(wait=True)\n",
        "  plt.figure(figsize=(14,4))\n",
        "  \n",
        "  for i,img in enumerate(imgs):\n",
        "      plt.subplot(num_rows,num_cols,i+1)\n",
        "      plt.imshow(img)\n",
        "      plt.xticks([])\n",
        "      plt.yticks([])\n",
        "      \n",
        "  return best_img, best_loss "
      ],
      "metadata": {
        "id": "3Yu1geS_03rh"
      },
      "execution_count": 39,
      "outputs": []
    },
    {
      "cell_type": "code",
      "source": [
        "#ft to display Inputs and Output of style transfer.\n",
        "def show_results(best_img, content_path, style_path, show_large_final=True):\n",
        "  plt.figure(figsize=(10, 5))\n",
        "  content = load_img(content_path) \n",
        "  style = load_img(style_path)\n",
        "  plt.subplot(1, 2, 1)\n",
        "  img_show(content, 'Content Image')\n",
        "  plt.subplot(1, 2, 2)\n",
        "  img_show(style, 'Style Image')\n",
        "\n",
        "  if show_large_final: \n",
        "    plt.figure(figsize=(10, 10))\n",
        "\n",
        "    plt.imshow(best_img)\n",
        "    plt.title('Output Image')\n",
        "    plt.show()"
      ],
      "metadata": {
        "id": "4iemiixAU3o4"
      },
      "execution_count": 40,
      "outputs": []
    },
    {
      "cell_type": "code",
      "source": [
        "#iterative for lists of content\n",
        "\n",
        "filename_list = ['sgs_grs_graeb_c-2017-5756-72_001_s.jpg', 'sgs_grs_graeb_c-2017-5756-72_001_s.jpg', 'piglhein_1224.jpg' ]\n",
        "style_list = ['/content/drive/MyDrive/cdvbw22/pics/sgs_grs_graeb_c-2017-5756-72_001_s.jpg', '/content/drive/MyDrive/cdvbw22/pics/sgs_grs_kandinsky_1970-16636-16_001_s.jpg', '/content/drive/MyDrive/cdvbw22/pics/piglhein_1224.jpg']\n",
        "#<a href=\"https://www.vecteezy.com/free-vector/black-and-white-pattern\">Black And White Pattern Vectors by Vecteezy</a>\n",
        "content_path = '/content/drive/MyDrive/cdvbw22/patterns/vecteezy_abstract-black-and-white-pattern-like-psychedelic_.jpg'\n",
        "\n",
        "for elem, name in zip(style_list, filename_list):\n",
        "  best, best_losss = run_style_transfer(content_path, elem, num_iterations=1)\n",
        "  plt.savefig(results_dir + name)\n",
        "  show_results(best, content_path, elem)\n",
        "  plt.savefig(results_dir + \"input\" + name)"
      ],
      "metadata": {
        "id": "u-a7GJj55hxM"
      },
      "execution_count": null,
      "outputs": []
    }
  ]
}